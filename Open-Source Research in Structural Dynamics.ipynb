{
 "cells": [
  {
   "cell_type": "markdown",
   "metadata": {
    "slideshow": {
     "slide_type": "slide"
    }
   },
   "source": [
    "[Domen Gorjup](http://www.ladisk.si/~gorjup), [Klemen Zaletelj](http://www.ladisk.si/~zaletelj), [prof. dr. Janko Slavič](http://www.ladisk.si/~slavic)*\n",
    "<br><br>\n",
    "<center>\n",
    "<img width=150 src=\"./figures/UNI-FS-full-en.png\">\n",
    "<br>\n",
    "<font size=5 color=\"f00e0e\" style=\"line-height: 150%;\" face=\"garamond\"><b>A hands-on tutorial on open-source research in structural dynamics</b></font>\n",
    "    \n",
    "<br>\n",
    "<img width=600 src=\"./figures/IMAC-XL-page-header-1280x133.png\">\n",
    "    \n",
    "<font size=2>February 7-10 2022</font>\n",
    "    \n",
    "\n",
    "\\* Corresponding email: janko.slavic@fs.uni-lj.si www.ladisk.si\n",
    "    \n",
    "Source of this tutorial: [github.com/ladisk/open_source_research_in_structural_dynamics](github.com/ladisk/open_source_research_in_structural_dynamics)\n",
    "</center>"
   ]
  },
  {
   "cell_type": "markdown",
   "metadata": {
    "slideshow": {
     "slide_type": "subslide"
    }
   },
   "source": [
    "## Your hosts\n",
    "\n",
    "<table style=\"width:60%; background-color:#ffffff\">\n",
    "    <tr>\n",
    "        <td>\n",
    "            <b><font size=\"4\">Domen Gorjup, PhD student</font></b>\n",
    "            <br><br>\n",
    "            <font size=\"3\">domen.gorjup@fs.uni-lj.si</font>\n",
    "        </td>\n",
    "        <td>\n",
    "            <img src=\"figures/domen_gorjup.jpg\" width=150>\n",
    "        </td>\n",
    "    </tr>\n",
    "    <tr>\n",
    "        <td>\n",
    "            <b><font size=\"4\">Klemen Zaletelj, PhD student</font></b>\n",
    "            <br><br>\n",
    "            <font size=\"3\">klemen.zaletelj@fs.uni-lj.si</font>\n",
    "        </td>\n",
    "        <td>\n",
    "            <img src=\"figures/klemen_zaletelj.jpg\" width=150>\n",
    "        </td>\n",
    "    </tr>\n",
    "    <tr>\n",
    "        <td>\n",
    "            <b><font size=\"4\">Professor Janko Slavič, PhD</font></b>\n",
    "            <br><br>\n",
    "            <font size=\"3\">janko.slavic@fs.uni-lj.si</font>\n",
    "        </td>\n",
    "        <td>\n",
    "            <img src=\"figures/janko_slavic.jpg\" width=150>\n",
    "        </td>\n",
    "    </tr>    \n",
    "</table>"
   ]
  },
  {
   "cell_type": "markdown",
   "metadata": {
    "slideshow": {
     "slide_type": "skip"
    }
   },
   "source": [
    "---"
   ]
  },
  {
   "cell_type": "markdown",
   "metadata": {
    "slideshow": {
     "slide_type": "subslide"
    },
    "toc": true
   },
   "source": [
    "<h1>Table of Contents<span class=\"tocSkip\"></span></h1>\n",
    "<div class=\"toc\"><ul class=\"toc-item\"><li><span><a href=\"#Your-hosts\" data-toc-modified-id=\"Your-hosts-1\"><span class=\"toc-item-num\">1&nbsp;&nbsp;</span>Your hosts</a></span></li><li><span><a href=\"#Why-open-source?\" data-toc-modified-id=\"Why-open-source?-2\"><span class=\"toc-item-num\">2&nbsp;&nbsp;</span>Why open-source?</a></span><ul class=\"toc-item\"><li><span><a href=\"#Avoid-re-inventing-the-wheel,-again!\" data-toc-modified-id=\"Avoid-re-inventing-the-wheel,-again!-2.1\"><span class=\"toc-item-num\">2.1&nbsp;&nbsp;</span>Avoid re-inventing the wheel, again!</a></span></li><li><span><a href=\"#Fully-reproducible-science!\" data-toc-modified-id=\"Fully-reproducible-science!-2.2\"><span class=\"toc-item-num\">2.2&nbsp;&nbsp;</span>Fully reproducible science!</a></span></li><li><span><a href=\"#Faster-science!\" data-toc-modified-id=\"Faster-science!-2.3\"><span class=\"toc-item-num\">2.3&nbsp;&nbsp;</span>Faster science!</a></span></li><li><span><a href=\"#The-possibility-to-contribute-&amp;-open-development\" data-toc-modified-id=\"The-possibility-to-contribute-&amp;-open-development-2.4\"><span class=\"toc-item-num\">2.4&nbsp;&nbsp;</span>The possibility to contribute &amp; open development</a></span></li><li><span><a href=\"#Why-Python?\" data-toc-modified-id=\"Why-Python?-2.5\"><span class=\"toc-item-num\">2.5&nbsp;&nbsp;</span>Why Python?</a></span></li><li><span><a href=\"#Seven-Stages-of-Open-Software\" data-toc-modified-id=\"Seven-Stages-of-Open-Software-2.6\"><span class=\"toc-item-num\">2.6&nbsp;&nbsp;</span>Seven Stages of Open Software</a></span></li></ul></li><li><span><a href=\"#Collaboration-on-open-source-projects\" data-toc-modified-id=\"Collaboration-on-open-source-projects-3\"><span class=\"toc-item-num\">3&nbsp;&nbsp;</span>Collaboration on open-source projects</a></span><ul class=\"toc-item\"><li><span><a href=\"#Python-for-scientific-computation-basics\" data-toc-modified-id=\"Python-for-scientific-computation-basics-3.1\"><span class=\"toc-item-num\">3.1&nbsp;&nbsp;</span>Python for scientific computation basics</a></span></li><li><span><a href=\"#SciPy\" data-toc-modified-id=\"SciPy-3.2\"><span class=\"toc-item-num\">3.2&nbsp;&nbsp;</span><a href=\"https://www.scipy.org/\" rel=\"nofollow\" target=\"_blank\">SciPy</a></a></span></li></ul></li><li><span><a href=\"#Open-source-tools-for-structural-dynamics\" data-toc-modified-id=\"Open-source-tools-for-structural-dynamics-4\"><span class=\"toc-item-num\">4&nbsp;&nbsp;</span>Open-source tools for structural dynamics</a></span><ul class=\"toc-item\"><li><span><a href=\"#PyFRF\" data-toc-modified-id=\"PyFRF-4.1\"><span class=\"toc-item-num\">4.1&nbsp;&nbsp;</span><a href=\"https://github.com/openmodal/pyFRF\" rel=\"nofollow\" target=\"_blank\">PyFRF</a></a></span></li><li><span><a href=\"#PyEMA\" data-toc-modified-id=\"PyEMA-4.2\"><span class=\"toc-item-num\">4.2&nbsp;&nbsp;</span><a href=\"https://github.com/ladisk/pyEMA\" rel=\"nofollow\" target=\"_blank\">PyEMA</a></a></span></li><li><span><a href=\"#PyUFF\" data-toc-modified-id=\"PyUFF-4.3\"><span class=\"toc-item-num\">4.3&nbsp;&nbsp;</span><a href=\"https://github.com/openmodal/pyuff\" rel=\"nofollow\" target=\"_blank\">PyUFF</a></a></span></li><li><span><a href=\"#pyExSi\" data-toc-modified-id=\"pyExSi-4.4\"><span class=\"toc-item-num\">4.4&nbsp;&nbsp;</span><a href=\"https://github.com/ladisk/pyExSi\" rel=\"nofollow\" target=\"_blank\">pyExSi</a></a></span></li><li><span><a href=\"#FLife\" data-toc-modified-id=\"FLife-4.5\"><span class=\"toc-item-num\">4.5&nbsp;&nbsp;</span><a href=\"https://github.com/ladisk/FLife\" rel=\"nofollow\" target=\"_blank\">FLife</a></a></span></li><li><span><a href=\"#Frequency-Based-Substructuring---pyFBS\" data-toc-modified-id=\"Frequency-Based-Substructuring---pyFBS-4.6\"><span class=\"toc-item-num\">4.6&nbsp;&nbsp;</span>Frequency Based Substructuring - <a href=\"https://pyfbs.readthedocs.io\" rel=\"nofollow\" target=\"_blank\">pyFBS</a></a></span></li><li><span><a href=\"#Image-based-displacement-identification----PyIDI\" data-toc-modified-id=\"Image-based-displacement-identification----PyIDI-4.7\"><span class=\"toc-item-num\">4.7&nbsp;&nbsp;</span>Image-based displacement identification  - <a href=\"https://github.com/ladisk/pyidi\" rel=\"nofollow\" target=\"_blank\">PyIDI</a></a></span></li></ul></li><li><span><a href=\"#Image-based-experimental-modal-analysis-in-Python\" data-toc-modified-id=\"Image-based-experimental-modal-analysis-in-Python-5\"><span class=\"toc-item-num\">5&nbsp;&nbsp;</span>Image-based experimental modal analysis in Python</a></span><ul class=\"toc-item\"><li><span><a href=\"#Acquisition-parameters\" data-toc-modified-id=\"Acquisition-parameters-5.1\"><span class=\"toc-item-num\">5.1&nbsp;&nbsp;</span>Acquisition parameters</a></span></li><li><span><a href=\"#Lighting\" data-toc-modified-id=\"Lighting-5.2\"><span class=\"toc-item-num\">5.2&nbsp;&nbsp;</span>Lighting</a></span></li><li><span><a href=\"#Surface-preperation\" data-toc-modified-id=\"Surface-preperation-5.3\"><span class=\"toc-item-num\">5.3&nbsp;&nbsp;</span>Surface preperation</a></span></li><li><span><a href=\"#Possible-errors\" data-toc-modified-id=\"Possible-errors-5.4\"><span class=\"toc-item-num\">5.4&nbsp;&nbsp;</span>Possible errors</a></span><ul class=\"toc-item\"><li><span><a href=\"#Out-of-focus-image\" data-toc-modified-id=\"Out-of-focus-image-5.4.1\"><span class=\"toc-item-num\">5.4.1&nbsp;&nbsp;</span>Out of focus image</a></span></li><li><span><a href=\"#Improper-lighting\" data-toc-modified-id=\"Improper-lighting-5.4.2\"><span class=\"toc-item-num\">5.4.2&nbsp;&nbsp;</span>Improper lighting</a></span></li></ul></li></ul></li><li><span><a href=\"#Real-life-example-of-image-based-vibration-measurement\" data-toc-modified-id=\"Real-life-example-of-image-based-vibration-measurement-6\"><span class=\"toc-item-num\">6&nbsp;&nbsp;</span>Real-life example of image-based vibration measurement</a></span><ul class=\"toc-item\"><li><span><a href=\"#Image-based-displacement-computation\" data-toc-modified-id=\"Image-based-displacement-computation-6.1\"><span class=\"toc-item-num\">6.1&nbsp;&nbsp;</span>Image-based displacement computation</a></span></li><li><span><a href=\"#Modal-Analysis---camera-data,-only\" data-toc-modified-id=\"Modal-Analysis---camera-data,-only-6.2\"><span class=\"toc-item-num\">6.2&nbsp;&nbsp;</span>Modal Analysis - camera data, only</a></span></li><li><span><a href=\"#Modal-Analysis---The-Hybrid-method\" data-toc-modified-id=\"Modal-Analysis---The-Hybrid-method-6.3\"><span class=\"toc-item-num\">6.3&nbsp;&nbsp;</span>Modal Analysis - The Hybrid method</a></span></li></ul></li></ul></div>"
   ]
  },
  {
   "cell_type": "markdown",
   "metadata": {
    "slideshow": {
     "slide_type": "skip"
    }
   },
   "source": [
    "Plotting and other settings:"
   ]
  },
  {
   "cell_type": "code",
   "execution_count": 1,
   "metadata": {
    "slideshow": {
     "slide_type": "skip"
    }
   },
   "outputs": [],
   "source": [
    "# Ignore non-critical warnings\n",
    "import warnings\n",
    "warnings.filterwarnings('ignore')"
   ]
  },
  {
   "cell_type": "code",
   "execution_count": 2,
   "metadata": {
    "slideshow": {
     "slide_type": "skip"
    }
   },
   "outputs": [],
   "source": [
    "%matplotlib inline\n",
    "import matplotlib\n",
    "import matplotlib.pyplot as plt\n",
    "\n",
    "font_size = 15\n",
    "fig_size = (16.0, 8.0)\n",
    "\n",
    "plt.style.use('ggplot')\n",
    "matplotlib.rcParams['figure.figsize'] = fig_size\n",
    "matplotlib.rcParams['font.size'] = font_size"
   ]
  },
  {
   "cell_type": "markdown",
   "metadata": {
    "slideshow": {
     "slide_type": "skip"
    }
   },
   "source": [
    "---"
   ]
  },
  {
   "cell_type": "markdown",
   "metadata": {
    "slideshow": {
     "slide_type": "slide"
    }
   },
   "source": [
    "## Why open-source?"
   ]
  },
  {
   "cell_type": "markdown",
   "metadata": {
    "slideshow": {
     "slide_type": "subslide"
    }
   },
   "source": [
    "### Avoid re-inventing the wheel, again!\n",
    "<img width=400 src=\"https://miro.medium.com/max/1400/1*uelROBkMlKDIomBaa1kK9w.jpeg\">\n",
    "Source: https://miro.medium.com/max/1400/1*uelROBkMlKDIomBaa1kK9w.jpeg"
   ]
  },
  {
   "cell_type": "markdown",
   "metadata": {
    "slideshow": {
     "slide_type": "subslide"
    }
   },
   "source": [
    "### Fully reproducible science!\n",
    "\n",
    "<img width=400 src=\"https://h-iq.com/wp-content/uploads/sites/4/2017/05/reinventing-the-wheel.jpg\">\n",
    "Source: https://h-iq.com/wp-content/uploads/sites/4/2017/05/reinventing-the-wheel.jpg"
   ]
  },
  {
   "cell_type": "markdown",
   "metadata": {
    "slideshow": {
     "slide_type": "subslide"
    }
   },
   "source": [
    "### Faster science!\n",
    "<img width=600 src=\"./figures/tweet_flife.jpg\">\n",
    "<img width=250 src=\"./figures/tweet_pyexsi.jpg\">"
   ]
  },
  {
   "cell_type": "markdown",
   "metadata": {
    "slideshow": {
     "slide_type": "subslide"
    }
   },
   "source": [
    "### The possibility to contribute & open development\n",
    "[numpy](https://github.com/numpy/numpy)\n",
    "<img width=600 src=\"./figures/numpy.jpg\">\n",
    "<img width=200 src=\"./figures/numpy2.jpg\">"
   ]
  },
  {
   "cell_type": "markdown",
   "metadata": {
    "slideshow": {
     "slide_type": "subslide"
    }
   },
   "source": [
    "[scipy](https://github.com/scipy/scipy)\n",
    "<img width=600 src=\"./figures/scipy.jpg\">\n",
    "<img width=200 src=\"./figures/scipy2.jpg\">"
   ]
  },
  {
   "cell_type": "markdown",
   "metadata": {
    "slideshow": {
     "slide_type": "slide"
    }
   },
   "source": [
    "### Why Python?\n",
    "\n",
    "<img width=600 src=\"./figures/g_trends.png\">\n",
    "\n",
    "[source](https://trends.google.com/trends/explore?date=today%205-y&geo=US&q=%2Fm%2F05z1_,%2Fm%2F053_x,%2Fm%2F0jgqg,%2Fm%2F07sbkfb)"
   ]
  },
  {
   "cell_type": "markdown",
   "metadata": {
    "slideshow": {
     "slide_type": "subslide"
    }
   },
   "source": [
    "Consistently rated among the *top 5 most popular programming languages*. See for example the [IEEE Spectrum list](https://spectrum.ieee.org/static/interactive-the-top-programming-languages-2020) or the [TIOBE Programming Community index](https://www.tiobe.com/tiobe-index/), or the [StackOverflow developer survey](https://insights.stackoverflow.com/survey/2019?utm_source=Iterable&utm_medium=email&utm_campaign=dev-survey-2019#technology)*.\n",
    "\n",
    "6 reasons as seen by [Kayla Matthews](https://www.kdnuggets.com/2017/07/6-reasons-python-suddenly-super-popular.html):\n",
    "1. Python Has a Healthy, Active and Supportive Community\n",
    "2. Python Has Some Great Corporate Sponsors\n",
    "3. Python Has Big Data\n",
    "4. Python Has Amazing Libraries\n",
    "5. Python Is Reliable and Efficient\n",
    "6. Python Is Accessible"
   ]
  },
  {
   "cell_type": "markdown",
   "metadata": {
    "slideshow": {
     "slide_type": "subslide"
    }
   },
   "source": [
    "**Open-source, governed by [The Python Software Foundation](https://www.python.org/psf-landing/)**\n",
    "<img width=600 src=\"./figures/licence.jpg\">"
   ]
  },
  {
   "cell_type": "markdown",
   "metadata": {
    "slideshow": {
     "slide_type": "subslide"
    }
   },
   "source": [
    "**Simple syntax**"
   ]
  },
  {
   "cell_type": "code",
   "execution_count": 3,
   "metadata": {},
   "outputs": [
    {
     "name": "stdout",
     "output_type": "stream",
     "text": [
      "lower: [0, 1, 2, 3, 4]\n",
      "upper: [5, 6, 7, 8, 9]\n"
     ]
    }
   ],
   "source": [
    "# example from: https://jakevdp.github.io/WhirlwindTourOfPython/02-basic-python-syntax.html\n",
    "# set the midpoint\n",
    "midpoint = 5\n",
    "\n",
    "# make two empty lists\n",
    "lower = []; upper = []\n",
    "\n",
    "# split the numbers into lower and upper\n",
    "for i in range(10):\n",
    "    if (i < midpoint):\n",
    "        lower.append(i)\n",
    "    else:\n",
    "        upper.append(i)\n",
    "        \n",
    "print(\"lower:\", lower)\n",
    "print(\"upper:\", upper)"
   ]
  },
  {
   "cell_type": "markdown",
   "metadata": {
    "slideshow": {
     "slide_type": "subslide"
    }
   },
   "source": [
    "**Huge, inclusive and growing ecosystem**\n",
    "Currently, over 270k packages (https://pypi.org/). Steep growth in popularity in recent years.\n",
    "<img width=700 src=\"./figures/psf.jpg\">"
   ]
  },
  {
   "cell_type": "markdown",
   "metadata": {
    "slideshow": {
     "slide_type": "subslide"
    }
   },
   "source": [
    "**Why Structural Dynamics in Python?**"
   ]
  },
  {
   "cell_type": "markdown",
   "metadata": {
    "slideshow": {
     "slide_type": "subslide"
    }
   },
   "source": [
    "<img width=600 src=\"./figures/py_ecosys0.png\">"
   ]
  },
  {
   "cell_type": "markdown",
   "metadata": {
    "slideshow": {
     "slide_type": "subslide"
    }
   },
   "source": [
    "<img width=600 src=\"./figures/py_ecosys1.png\">"
   ]
  },
  {
   "cell_type": "markdown",
   "metadata": {
    "slideshow": {
     "slide_type": "subslide"
    }
   },
   "source": [
    "<img width=600 src=\"./figures/py_ecosys2.png\">"
   ]
  },
  {
   "cell_type": "markdown",
   "metadata": {
    "slideshow": {
     "slide_type": "subslide"
    }
   },
   "source": [
    "<img width=600 src=\"./figures/py_ecosys3.png\">"
   ]
  },
  {
   "cell_type": "markdown",
   "metadata": {
    "slideshow": {
     "slide_type": "subslide"
    }
   },
   "source": [
    "<img width=600 src=\"./figures/py_ecosys4.png\">"
   ]
  },
  {
   "cell_type": "markdown",
   "metadata": {
    "slideshow": {
     "slide_type": "subslide"
    }
   },
   "source": [
    "<img width=600 src=\"./figures/py_ecosys5.png\">"
   ]
  },
  {
   "cell_type": "markdown",
   "metadata": {
    "slideshow": {
     "slide_type": "subslide"
    }
   },
   "source": [
    "### Seven Stages of Open Software\n",
    "By: [Matthew Rocklin](https://coiled.io/blog/stages-of-openness.html)"
   ]
  },
  {
   "cell_type": "markdown",
   "metadata": {},
   "source": [
    "1. **Publicly visible source code**: We uploaded our code to GitHub\n",
    "2. **Licensed for reuse**: And let people use it for free\n",
    "2. **Accepting contributions**: And if they submit a patch, we’ll take the time to look at it, and work with them to merge it in\n",
    "4. **Open development**: And when we work we’ll make sure that all of our communication happens in the open as well, so that others can see what we’re doing and why\n",
    "5. **Open decision making**: And that communication will be open to the public, so that everyone can weigh in, vote, and determine what happens to the project\n",
    "6. **Multi-institution engagement**: So much so that no single institution or individual has control over the project\n",
    "7. **Retirement**: So now we can retire, and know that the software will live on forever"
   ]
  },
  {
   "cell_type": "markdown",
   "metadata": {
    "slideshow": {
     "slide_type": "skip"
    }
   },
   "source": [
    "---"
   ]
  },
  {
   "cell_type": "markdown",
   "metadata": {
    "slideshow": {
     "slide_type": "slide"
    }
   },
   "source": [
    "## Collaboration on open-source projects"
   ]
  },
  {
   "cell_type": "markdown",
   "metadata": {
    "slideshow": {
     "slide_type": "subslide"
    }
   },
   "source": [
    "https://github.com/ladisk/open_source_research_in_structural_dynamics"
   ]
  },
  {
   "cell_type": "markdown",
   "metadata": {},
   "source": [
    "### Python for scientific computation basics"
   ]
  },
  {
   "cell_type": "markdown",
   "metadata": {
    "slideshow": {
     "slide_type": "subslide"
    }
   },
   "source": [
    "Package imports:\n",
    "\n",
    "*(Some of these might be imported again in the examples below. While this is not a recommended practice, it is done to provide you with complete code examples).*"
   ]
  },
  {
   "cell_type": "markdown",
   "metadata": {
    "slideshow": {
     "slide_type": "subslide"
    }
   },
   "source": [
    "To run this tutorial, the following Python packages must be installed:\n",
    "\n",
    "* ``pip install scipy``\n",
    "* ``pip install numpy``\n",
    "* ``pip install matplotlib``\n",
    "* ``pip install lvm_read``\n",
    "* ``pip install pyFRF``\n",
    "* ``pip install pyidi``\n",
    "* ``pip install pyEMA``\n",
    "* ``pip install FLife``\n",
    "* ``pip install pyExSi``\n",
    "* ``pip install pyuff``\n",
    "* ``pip install pyFBS``\n",
    "\n",
    "You can get them all at once by running:\n",
    "\n",
    "``pip install -r requirements.txt``"
   ]
  },
  {
   "cell_type": "code",
   "execution_count": 4,
   "metadata": {},
   "outputs": [],
   "source": [
    "# General Python packages\n",
    "import os\n",
    "import numpy as np\n",
    "import scipy\n",
    "import matplotlib\n",
    "import matplotlib.pyplot as plt\n",
    "import matplotlib.patches as patches\n",
    "from ipywidgets import interact, fixed"
   ]
  },
  {
   "cell_type": "markdown",
   "metadata": {
    "slideshow": {
     "slide_type": "slide"
    }
   },
   "source": [
    "### [SciPy](https://www.scipy.org/)\n",
    "\n",
    "The [SciPy](https://www.scipy.org/index.html) stack is a collection of open-source Python software for science and engineering. It consists of six core packages, including:"
   ]
  },
  {
   "cell_type": "markdown",
   "metadata": {
    "slideshow": {
     "slide_type": "subslide"
    }
   },
   "source": [
    "**[Numpy](http://www.numpy.org/)**: \n",
    "\n",
    "* Adds support for the efficient multidimentional ``ndarray`` data object for numerical data representation. \n",
    "* Functions for *numerical data manipulation*, *linear algebra* and *the Fourier transform*."
   ]
  },
  {
   "cell_type": "code",
   "execution_count": 5,
   "metadata": {
    "slideshow": {
     "slide_type": "subslide"
    }
   },
   "outputs": [],
   "source": [
    "import numpy as np"
   ]
  },
  {
   "cell_type": "code",
   "execution_count": 6,
   "metadata": {
    "slideshow": {
     "slide_type": "-"
    }
   },
   "outputs": [
    {
     "data": {
      "text/plain": [
       "array([1, 2, 3, 4, 5])"
      ]
     },
     "execution_count": 6,
     "metadata": {},
     "output_type": "execute_result"
    }
   ],
   "source": [
    "L = [1, 2, 3, 4, 5] # This is a list\n",
    "a = np.array(L)     # This is an array\n",
    "a"
   ]
  },
  {
   "cell_type": "markdown",
   "metadata": {
    "slideshow": {
     "slide_type": "subslide"
    }
   },
   "source": [
    "Note the difference:"
   ]
  },
  {
   "cell_type": "code",
   "execution_count": 7,
   "metadata": {},
   "outputs": [
    {
     "data": {
      "text/plain": [
       "[1, 2, 3, 4, 5, 1, 2, 3, 4, 5]"
      ]
     },
     "execution_count": 7,
     "metadata": {},
     "output_type": "execute_result"
    }
   ],
   "source": [
    "2*L"
   ]
  },
  {
   "cell_type": "code",
   "execution_count": 8,
   "metadata": {},
   "outputs": [
    {
     "data": {
      "text/plain": [
       "array([ 2,  4,  6,  8, 10])"
      ]
     },
     "execution_count": 8,
     "metadata": {},
     "output_type": "execute_result"
    }
   ],
   "source": [
    "2*a"
   ]
  },
  {
   "cell_type": "markdown",
   "metadata": {
    "slideshow": {
     "slide_type": "subslide"
    }
   },
   "source": [
    "A range of numbers:"
   ]
  },
  {
   "cell_type": "code",
   "execution_count": 9,
   "metadata": {},
   "outputs": [
    {
     "data": {
      "text/plain": [
       "array([0, 2, 4, 6, 8])"
      ]
     },
     "execution_count": 9,
     "metadata": {},
     "output_type": "execute_result"
    }
   ],
   "source": [
    "a1 = np.arange(0, 10, 2)\n",
    "a1"
   ]
  },
  {
   "cell_type": "markdown",
   "metadata": {
    "slideshow": {
     "slide_type": "subslide"
    }
   },
   "source": [
    "Linearly spaced values:"
   ]
  },
  {
   "cell_type": "code",
   "execution_count": 10,
   "metadata": {},
   "outputs": [
    {
     "data": {
      "text/plain": [
       "array([ 0.+0.j,  2.+0.j,  4.+0.j,  6.+0.j,  8.+0.j, 10.+0.j])"
      ]
     },
     "execution_count": 10,
     "metadata": {},
     "output_type": "execute_result"
    }
   ],
   "source": [
    "a2 = np.linspace(0, 10, 6, dtype=complex)\n",
    "a2"
   ]
  },
  {
   "cell_type": "markdown",
   "metadata": {
    "slideshow": {
     "slide_type": "subslide"
    }
   },
   "source": [
    "Multidimensional arrays represent matrices:"
   ]
  },
  {
   "cell_type": "code",
   "execution_count": 11,
   "metadata": {},
   "outputs": [
    {
     "data": {
      "text/plain": [
       "array([[0.9586192 , 0.28186299, 0.3398877 ],\n",
       "       [0.44764287, 0.0216195 , 0.17682378],\n",
       "       [0.38327236, 0.74523292, 0.43437687]])"
      ]
     },
     "execution_count": 11,
     "metadata": {},
     "output_type": "execute_result"
    }
   ],
   "source": [
    "M = np.random.rand(3, 3) # This is a matrix\n",
    "M"
   ]
  },
  {
   "cell_type": "code",
   "execution_count": 12,
   "metadata": {},
   "outputs": [
    {
     "data": {
      "text/plain": [
       "dtype('float64')"
      ]
     },
     "execution_count": 12,
     "metadata": {},
     "output_type": "execute_result"
    }
   ],
   "source": [
    "A = np.array([[1, 2, 3],\n",
    "              [-4, 5.6, 8.5]])\n",
    "A.dtype"
   ]
  },
  {
   "cell_type": "markdown",
   "metadata": {
    "slideshow": {
     "slide_type": "subslide"
    }
   },
   "source": [
    "**[Matplotlib](https://matplotlib.org/)**:\n",
    "\n",
    "* A plotting library for producing publication-ready data visualizations.\n",
    "* A MATLAB-inspired user interface.\n"
   ]
  },
  {
   "cell_type": "code",
   "execution_count": 13,
   "metadata": {
    "slideshow": {
     "slide_type": "subslide"
    }
   },
   "outputs": [],
   "source": [
    "import matplotlib.pyplot as plt"
   ]
  },
  {
   "cell_type": "code",
   "execution_count": 14,
   "metadata": {
    "slideshow": {
     "slide_type": "-"
    }
   },
   "outputs": [],
   "source": [
    "x = np.arange(0, 1, 0.02) # x coordinates\n",
    "y1 = np.sin(2*np.pi*2*x)   # y coordinates\n",
    "y2 = np.cos(2*np.pi*3*x)   # y coordinates"
   ]
  },
  {
   "cell_type": "code",
   "execution_count": 15,
   "metadata": {
    "slideshow": {
     "slide_type": "subslide"
    }
   },
   "outputs": [
    {
     "data": {
      "image/png": "[encoded data removed]",
      "text/plain": [
       "<Figure size 1152x576 with 1 Axes>"
      ]
     },
     "metadata": {},
     "output_type": "display_data"
    }
   ],
   "source": [
    "plt.plot(x, y1, 'ro', label='sin')\n",
    "plt.plot(x, y2, 'bo', label='cos')\n",
    "plt.legend()\n",
    "plt.xlabel('x')\n",
    "plt.ylabel('y')\n",
    "plt.title('Sin and Cos')\n",
    "plt.grid(True)"
   ]
  },
  {
   "cell_type": "markdown",
   "metadata": {},
   "source": [
    "(Outside the Jupyter environment, things are a bit different! Some extra lines of code are required.)"
   ]
  },
  {
   "cell_type": "markdown",
   "metadata": {
    "slideshow": {
     "slide_type": "subslide"
    }
   },
   "source": [
    "**[The SciPy library](https://docs.scipy.org/doc/scipy/reference/)** provides user-friendly and efficient numerical routines for:\n",
    "\n",
    "* Signal processing,\n",
    "* numerical integration,\n",
    "* optimization,\n",
    "* interpolation."
   ]
  },
  {
   "cell_type": "code",
   "execution_count": 16,
   "metadata": {
    "slideshow": {
     "slide_type": "subslide"
    }
   },
   "outputs": [],
   "source": [
    "from scipy.interpolate import InterpolatedUnivariateSpline"
   ]
  },
  {
   "cell_type": "code",
   "execution_count": 17,
   "metadata": {
    "slideshow": {
     "slide_type": "-"
    }
   },
   "outputs": [],
   "source": [
    "x_int = np.linspace(0, 1, 1000)\n",
    "spl = InterpolatedUnivariateSpline(x, y1, k=3)"
   ]
  },
  {
   "cell_type": "code",
   "execution_count": 18,
   "metadata": {
    "slideshow": {
     "slide_type": "subslide"
    }
   },
   "outputs": [
    {
     "data": {
      "text/plain": [
       "<matplotlib.legend.Legend at 0x20d9641d640>"
      ]
     },
     "execution_count": 18,
     "metadata": {},
     "output_type": "execute_result"
    },
    {
     "data": {
      "image/png": "[encoded data removed]",
      "text/plain": [
       "<Figure size 1152x576 with 1 Axes>"
      ]
     },
     "metadata": {},
     "output_type": "display_data"
    }
   ],
   "source": [
    "plt.plot(x_int, spl(x_int), '-', label='Interpolated')\n",
    "plt.plot(x, y1, 'o', label='Original')\n",
    "plt.legend()"
   ]
  },
  {
   "cell_type": "markdown",
   "metadata": {
    "slideshow": {
     "slide_type": "subslide"
    }
   },
   "source": [
    "The Discrete Fourier Transform is included in both Numpy and SciPy:"
   ]
  },
  {
   "cell_type": "code",
   "execution_count": 19,
   "metadata": {},
   "outputs": [],
   "source": [
    "Y1 = np.fft.rfft(y1) / len(x) * 2\n",
    "Y2 = np.fft.rfft(y2) / len(x) * 2\n",
    "freq = np.fft.rfftfreq(len(x), d=x[1]-x[0])"
   ]
  },
  {
   "cell_type": "code",
   "execution_count": 20,
   "metadata": {},
   "outputs": [
    {
     "data": {
      "text/plain": [
       "(0.0, 5.0)"
      ]
     },
     "execution_count": 20,
     "metadata": {},
     "output_type": "execute_result"
    },
    {
     "data": {
      "image/png": "[encoded data removed]",
      "text/plain": [
       "<Figure size 1152x576 with 1 Axes>"
      ]
     },
     "metadata": {},
     "output_type": "display_data"
    }
   ],
   "source": [
    "plt.plot(freq, np.abs(Y1), 'o-', alpha=0.75)\n",
    "plt.plot(freq, np.abs(Y2), 'o-', alpha=0.75)\n",
    "plt.xlim(0, 5)"
   ]
  },
  {
   "cell_type": "markdown",
   "metadata": {
    "slideshow": {
     "slide_type": "skip"
    }
   },
   "source": [
    "---"
   ]
  },
  {
   "cell_type": "code",
   "execution_count": 21,
   "metadata": {},
   "outputs": [],
   "source": [
    "# Ignore non-critical warnings\n",
    "import warnings\n",
    "warnings.filterwarnings('ignore')"
   ]
  },
  {
   "cell_type": "markdown",
   "metadata": {
    "slideshow": {
     "slide_type": "slide"
    }
   },
   "source": [
    "## Open-source tools for structural dynamics"
   ]
  },
  {
   "cell_type": "code",
   "execution_count": 23,
   "metadata": {},
   "outputs": [],
   "source": [
    "# Import structural dynamics packages\n",
    "import lvm_read\n",
    "import pyFRF\n",
    "import pyidi\n",
    "import pyEMA\n",
    "import FLife\n",
    "import pyExSi as es\n",
    "import pyuff\n",
    "import pyFBS\n",
    "\n",
    "# Our visualization functions\n",
    "from modules.tools import show_modal_data, plot_mode_shape, show_reconstructed, show_lighting"
   ]
  },
  {
   "cell_type": "markdown",
   "metadata": {
    "slideshow": {
     "slide_type": "subslide"
    }
   },
   "source": [
    "### [PyFRF](https://github.com/openmodal/pyFRF)"
   ]
  },
  {
   "cell_type": "markdown",
   "metadata": {},
   "source": [
    "``pyFRF`` is an open-source package, designed for Frequency Response Function computation in structural dynamics.\n",
    "\n",
    "The inputs are time signals of excitation and response, the outputs are FRF estimators (H1, H2, Hv, Vector or ODS) and coherence."
   ]
  },
  {
   "cell_type": "code",
   "execution_count": 24,
   "metadata": {
    "slideshow": {
     "slide_type": "subslide"
    }
   },
   "outputs": [],
   "source": [
    "import pyFRF"
   ]
  },
  {
   "cell_type": "markdown",
   "metadata": {},
   "source": [
    "Data are read from an `.lvm` file using `lvm_read` package:"
   ]
  },
  {
   "cell_type": "code",
   "execution_count": 25,
   "metadata": {},
   "outputs": [],
   "source": [
    "measurement_dict = lvm_read.read('data/acceleration.lvm')"
   ]
  },
  {
   "cell_type": "code",
   "execution_count": 26,
   "metadata": {},
   "outputs": [],
   "source": [
    "acceleration = measurement_dict[0]['data'][:, 0]\n",
    "force = measurement_dict[0]['data'][:, 1]\n",
    "\n",
    "sampling_frequency = 1/measurement_dict[0]['Delta_X'][0]"
   ]
  },
  {
   "cell_type": "markdown",
   "metadata": {
    "slideshow": {
     "slide_type": "subslide"
    }
   },
   "source": [
    "A direct way of computing the FRF estimates:"
   ]
  },
  {
   "cell_type": "code",
   "execution_count": 28,
   "metadata": {},
   "outputs": [],
   "source": [
    "frf = pyFRF.FRF(sampling_freq=sampling_frequency, exc=force, resp=acceleration, \n",
    "          resp_type='a', exc_window='None', resp_window='None')\n",
    "\n",
    "freq = frf.get_f_axis()\n",
    "H1 = frf.get_FRF(type='H1')"
   ]
  },
  {
   "cell_type": "code",
   "execution_count": 30,
   "metadata": {
    "slideshow": {
     "slide_type": "subslide"
    }
   },
   "outputs": [
    {
     "data": {
      "image/png": "[encoded data removed]",
      "text/plain": [
       "<Figure size 1152x576 with 1 Axes>"
      ]
     },
     "metadata": {},
     "output_type": "display_data"
    }
   ],
   "source": [
    "plt.semilogy(freq, np.abs(H1), '.')\n",
    "plt.title('FRF H1')\n",
    "plt.xlabel('Frequency [Hz]')\n",
    "plt.xlim(0, 10000);"
   ]
  },
  {
   "cell_type": "markdown",
   "metadata": {
    "slideshow": {
     "slide_type": "subslide"
    }
   },
   "source": [
    "### [PyEMA](https://github.com/ladisk/pyEMA)"
   ]
  },
  {
   "cell_type": "code",
   "execution_count": 31,
   "metadata": {},
   "outputs": [],
   "source": [
    "freq, H1_main = np.load(\"./data/FRF_matrix.npy\", allow_pickle=True)"
   ]
  },
  {
   "cell_type": "markdown",
   "metadata": {
    "slideshow": {
     "slide_type": "subslide"
    }
   },
   "source": [
    "From the experimental FRF array (`H1_main` of dimensions: `(#inputs, #outputs, frequency)`) only the response accelerometer position at index 1 will be used for analysis:"
   ]
  },
  {
   "cell_type": "code",
   "execution_count": 32,
   "metadata": {},
   "outputs": [],
   "source": [
    "selected_response = 1\n",
    "FRF = H1_main[:, selected_response, :]"
   ]
  },
  {
   "cell_type": "code",
   "execution_count": 34,
   "metadata": {
    "slideshow": {
     "slide_type": "subslide"
    }
   },
   "outputs": [
    {
     "data": {
      "image/png": "[encoded data removed]",
      "text/plain": [
       "<Figure size 1152x576 with 1 Axes>"
      ]
     },
     "metadata": {},
     "output_type": "display_data"
    }
   ],
   "source": [
    "plt.semilogy(freq, np.abs(FRF.T));\n",
    "plt.ylabel('FRF H1')\n",
    "plt.xlabel('Frequency [Hz]')\n",
    "plt.xlim(0, 1000);"
   ]
  },
  {
   "cell_type": "markdown",
   "metadata": {
    "slideshow": {
     "slide_type": "subslide"
    }
   },
   "source": [
    "Initiate the pyEMA object:"
   ]
  },
  {
   "cell_type": "code",
   "execution_count": 35,
   "metadata": {},
   "outputs": [],
   "source": [
    "acc = pyEMA.Model(frf=FRF, \n",
    "                 freq=freq,\n",
    "                 lower=10, \n",
    "                 upper=5000,\n",
    "                 pol_order_high=60)"
   ]
  },
  {
   "cell_type": "markdown",
   "metadata": {
    "slideshow": {
     "slide_type": "subslide"
    }
   },
   "source": [
    "Get the complex system poles:"
   ]
  },
  {
   "cell_type": "code",
   "execution_count": 36,
   "metadata": {},
   "outputs": [
    {
     "name": "stderr",
     "output_type": "stream",
     "text": [
      "  0%|                                                                        | 0/60 [00:00<?, ?it/s]C:\\ProgramData\\Anaconda3\\lib\\site-packages\\pyEMA\\tools.py:14: RuntimeWarning: divide by zero encountered in true_divide\n",
      "  xir = -sr.real/fr\n",
      "100%|██████████████████████████████████████████████████████████████| 60/60 [00:00<00:00, 689.69it/s]\n"
     ]
    }
   ],
   "source": [
    "acc.get_poles()"
   ]
  },
  {
   "cell_type": "markdown",
   "metadata": {
    "slideshow": {
     "slide_type": "subslide"
    }
   },
   "source": [
    "Select stable poles from stabilisation chart:"
   ]
  },
  {
   "cell_type": "code",
   "execution_count": 37,
   "metadata": {},
   "outputs": [
    {
     "name": "stderr",
     "output_type": "stream",
     "text": [
      "  0%|                                                                        | 0/60 [00:00<?, ?it/s]C:\\ProgramData\\Anaconda3\\lib\\site-packages\\pyEMA\\stabilization.py:76: RuntimeWarning: divide by zero encountered in true_divide\n",
      "  fn_test[i, np.abs((fn[i] - fn_temp[:, n-2]) /\n",
      "C:\\ProgramData\\Anaconda3\\lib\\site-packages\\pyEMA\\stabilization.py:78: RuntimeWarning: divide by zero encountered in true_divide\n",
      "  xi_test[i, np.abs((xi[i] - xi_temp[:, n-2]) /\n",
      "C:\\ProgramData\\Anaconda3\\lib\\site-packages\\pyEMA\\tools.py:14: RuntimeWarning: divide by zero encountered in true_divide\n",
      "  xir = -sr.real/fr\n",
      "C:\\ProgramData\\Anaconda3\\lib\\site-packages\\pyEMA\\stabilization.py:78: RuntimeWarning: invalid value encountered in true_divide\n",
      "  xi_test[i, np.abs((xi[i] - xi_temp[:, n-2]) /\n",
      "C:\\ProgramData\\Anaconda3\\lib\\site-packages\\pyEMA\\stabilization.py:76: RuntimeWarning: invalid value encountered in true_divide\n",
      "  fn_test[i, np.abs((fn[i] - fn_temp[:, n-2]) /\n",
      "C:\\ProgramData\\Anaconda3\\lib\\site-packages\\pyEMA\\stabilization.py:78: RuntimeWarning: invalid value encountered in subtract\n",
      "  xi_test[i, np.abs((xi[i] - xi_temp[:, n-2]) /\n",
      "100%|██████████████████████████████████████████████████████████████| 60/60 [00:00<00:00, 216.47it/s]\n"
     ]
    },
    {
     "data": {
      "text/plain": [
       "<Figure size 1152x576 with 0 Axes>"
      ]
     },
     "metadata": {},
     "output_type": "display_data"
    }
   ],
   "source": [
    "acc.select_poles()"
   ]
  },
  {
   "cell_type": "markdown",
   "metadata": {
    "slideshow": {
     "slide_type": "subslide"
    }
   },
   "source": [
    "\n",
    "\n",
    "The selected natural frequencies and corresponding damping factors:\n"
   ]
  },
  {
   "cell_type": "code",
   "execution_count": 38,
   "metadata": {},
   "outputs": [
    {
     "name": "stdout",
     "output_type": "stream",
     "text": [
      "   Nat. f.      Damping\n",
      "-----------------------\n",
      "1)  176.1\t0.0088\n",
      "2)  476.5\t0.0020\n",
      "3)  932.2\t0.0015\n",
      "4) 1534.8\t0.0020\n",
      "5) 2286.3\t0.0028\n",
      "6) 3162.0\t0.0018\n",
      "7) 4181.0\t0.0015\n"
     ]
    }
   ],
   "source": [
    "acc.print_modal_data()"
   ]
  },
  {
   "cell_type": "markdown",
   "metadata": {
    "slideshow": {
     "slide_type": "subslide"
    }
   },
   "source": [
    "Show normalized modes (first three):"
   ]
  },
  {
   "cell_type": "code",
   "execution_count": 40,
   "metadata": {},
   "outputs": [
    {
     "data": {
      "text/plain": [
       "Text(0, 0.5, 'mode shape')"
      ]
     },
     "execution_count": 40,
     "metadata": {},
     "output_type": "execute_result"
    },
    {
     "data": {
      "image/png": "[encoded data removed]",
      "text/plain": [
       "<Figure size 1152x576 with 1 Axes>"
      ]
     },
     "metadata": {},
     "output_type": "display_data"
    }
   ],
   "source": [
    "plt.plot(acc.normal_mode()[:, :3]);\n",
    "plt.xlabel('DOF')\n",
    "plt.ylabel('mode shape')"
   ]
  },
  {
   "cell_type": "markdown",
   "metadata": {
    "slideshow": {
     "slide_type": "subslide"
    }
   },
   "source": [
    "\n",
    "\n",
    "Showing the reconstructed FRF:\n"
   ]
  },
  {
   "cell_type": "code",
   "execution_count": 41,
   "metadata": {
    "slideshow": {
     "slide_type": "-"
    }
   },
   "outputs": [
    {
     "ename": "NameError",
     "evalue": "name 'frf_rec' is not defined",
     "output_type": "error",
     "traceback": [
      "\u001b[1;31m---------------------------------------------------------------------------\u001b[0m",
      "\u001b[1;31mNameError\u001b[0m                                 Traceback (most recent call last)",
      "\u001b[1;32m<ipython-input-41-0eb4d40c980d>\u001b[0m in \u001b[0;36m<module>\u001b[1;34m\u001b[0m\n\u001b[1;32m----> 1\u001b[1;33m \u001b[0mshow_reconstructed\u001b[0m\u001b[1;33m(\u001b[0m\u001b[0mfreq\u001b[0m\u001b[1;33m,\u001b[0m \u001b[0macc\u001b[0m\u001b[1;33m,\u001b[0m \u001b[0mFRF\u001b[0m\u001b[1;33m,\u001b[0m \u001b[0mfrf_rec\u001b[0m\u001b[1;33m)\u001b[0m\u001b[1;33m\u001b[0m\u001b[1;33m\u001b[0m\u001b[0m\n\u001b[0m",
      "\u001b[1;31mNameError\u001b[0m: name 'frf_rec' is not defined"
     ]
    }
   ],
   "source": [
    "show_reconstructed(freq, acc, FRF, frf_rec)"
   ]
  },
  {
   "cell_type": "markdown",
   "metadata": {
    "slideshow": {
     "slide_type": "subslide"
    }
   },
   "source": [
    "### [PyUFF](https://github.com/openmodal/pyuff)"
   ]
  },
  {
   "cell_type": "markdown",
   "metadata": {},
   "source": [
    "UFF file format was originally developed by the Structural Dynamics Research Corporation (SDRC) to standardize data transfer mainly between various modal analysis, measurement or CAD geometry software products. UFF file is composed into several datasets, most important being the dataset 58 for measurement data and dataset 55 for modal data. More info on specific datasets can be obtained at http://www.sdrl.uc.edu/sdrl/referenceinfo/universalfileformats\n",
    "\n",
    "Supported data tipes for reading and writting are: 151, 15, 55, 58, 58b, 82, 164, 2411, 2412, 2420.\n",
    "\n",
    "The documentation for `pyuff` is available [here](https://pyuff.readthedocs.io/en/latest/index.html)."
   ]
  },
  {
   "cell_type": "markdown",
   "metadata": {
    "slideshow": {
     "slide_type": "subslide"
    }
   },
   "source": [
    "With the release of version 2.0, the `prepare_()` methods were introduced, making the workflow easier. \n",
    "\n",
    "All required arguments are listed and documented in the `docstring` (along with the record and field numeber, referencing the [file structure](https://www.ceas3.uc.edu/sdrluff/))."
   ]
  },
  {
   "cell_type": "markdown",
   "metadata": {
    "slideshow": {
     "slide_type": "subslide"
    }
   },
   "source": [
    "Writing an `UFF` file:"
   ]
  },
  {
   "cell_type": "code",
   "execution_count": 42,
   "metadata": {},
   "outputs": [
    {
     "name": "stderr",
     "output_type": "stream",
     "text": [
      "C:\\ProgramData\\Anaconda3\\lib\\site-packages\\pyuff\\pyuff.py:433: ResourceWarning: unclosed file <_io.TextIOWrapper name='data/temp58.uff' mode='at' encoding='cp1252'>\n",
      "  _write58(fh, dset, mode, _filename=self._filename)\n",
      "ResourceWarning: Enable tracemalloc to get the object allocation traceback\n"
     ]
    }
   ],
   "source": [
    "filename = 'data/temp58.uff'\n",
    "if os.path.exists(filename): # Delete a file if it already exists\n",
    "    os.remove(filename)     #therefore we delete prior file here\n",
    "    \n",
    "uff_write = pyuff.UFF(filename)\n",
    "\n",
    "for i in range(FRF.shape[0]):\n",
    "    data_dict = pyuff.prepare_58(binary=True,\n",
    "                                 func_type=4,\n",
    "                                 rsp_node=i,\n",
    "                                 rsp_dir=0,\n",
    "                                 ref_node=0,\n",
    "                                 ref_dir=0,\n",
    "                                 orddenom_spec_data_type=13,\n",
    "                                 data=FRF[i],\n",
    "                                 x=freq)\n",
    "    uff_write.write_sets(data_dict, mode='add')"
   ]
  },
  {
   "cell_type": "markdown",
   "metadata": {
    "slideshow": {
     "slide_type": "subslide"
    }
   },
   "source": [
    "---"
   ]
  },
  {
   "cell_type": "markdown",
   "metadata": {},
   "source": [
    "### [pyExSi](https://github.com/ladisk/pyExSi)"
   ]
  },
  {
   "cell_type": "markdown",
   "metadata": {},
   "source": [
    "Supported excitation signals:\n",
    "<img width=300 src=\"./figures/tweet_pyexsi.jpg\">"
   ]
  },
  {
   "cell_type": "markdown",
   "metadata": {},
   "source": [
    "Here we will show only the **non-stationary non-Gaussian excitation**."
   ]
  },
  {
   "cell_type": "code",
   "execution_count": null,
   "metadata": {},
   "outputs": [],
   "source": [
    "N = 2 ** 16  # number of data points of time signal\n",
    "fs = 1024  # sampling frequency [Hz]\n",
    "t = np.arange(0, N) / fs  # time vector\n",
    "\n",
    "# define frequency vector and one-sided flat-shaped PSD\n",
    "M = N // 2 + 1  # number of data points of frequency vector\n",
    "f = np.arange(0, M, 1) * fs / N  # frequency vector\n",
    "f_min = 50  # PSD upper frequency limit  [Hz]\n",
    "f_max = 100  # PSD lower frequency limit [Hz]\n",
    "PSD = es.get_psd(f, f_min, f_max)  # one-sided flat-shaped PSD"
   ]
  },
  {
   "cell_type": "code",
   "execution_count": null,
   "metadata": {},
   "outputs": [],
   "source": [
    "plt.plot(f, PSD)\n",
    "plt.xlim(0, 200)\n",
    "plt.show()"
   ]
  },
  {
   "cell_type": "markdown",
   "metadata": {},
   "source": [
    "Get gaussian stationary signal and check if the kurtosis is close to 3:"
   ]
  },
  {
   "cell_type": "code",
   "execution_count": null,
   "metadata": {},
   "outputs": [],
   "source": [
    "gausian_signal = es.random_gaussian(N, PSD, fs)\n",
    "es.get_kurtosis(gausian_signal)"
   ]
  },
  {
   "cell_type": "markdown",
   "metadata": {},
   "source": [
    "Get non-gaussian stationary signal and check if the kurtosis is close to `k_u=10`:"
   ]
  },
  {
   "cell_type": "code",
   "execution_count": null,
   "metadata": {},
   "outputs": [],
   "source": [
    "k_u_target = 10\n",
    "nongausian_signal = es.stationary_nongaussian_signal(N, PSD, fs, k_u=k_u_target)\n",
    "es.get_kurtosis(nongausian_signal)"
   ]
  },
  {
   "cell_type": "markdown",
   "metadata": {},
   "source": [
    "Two types of non-stationarity are supported:\n",
    "* modulation defined with a PSD defined \n",
    "* modulation based on cubic spline interpolation (nodes are based on beta distribution).\n",
    "\n",
    "Here the latter will be shown."
   ]
  },
  {
   "cell_type": "markdown",
   "metadata": {},
   "source": [
    "Get the non-stationary non-Gaussian signal and check the kurtosis:"
   ]
  },
  {
   "cell_type": "code",
   "execution_count": null,
   "metadata": {},
   "outputs": [],
   "source": [
    "# Points are separated by delta_n = 2**8 samples (at fs=2**10)\n",
    "delta_n = 2 ** 8\n",
    "# define array of parameters alpha and beta\n",
    "alpha_list = np.arange(1, 10, 1)\n",
    "beta_list = np.arange(1, 10, 1)\n",
    "# get signal\n",
    "nongausian_nonstationary_signal_beta = es.nonstationary_signal(\n",
    "    N,\n",
    "    PSD,\n",
    "    fs,\n",
    "    k_u=k_u_target,\n",
    "    modulating_signal=('CSI', delta_n),\n",
    "    param1_list=alpha_list,\n",
    "    param2_list=beta_list\n",
    ")\n",
    "# calculate kurtosis\n",
    "es.get_kurtosis(nongausian_nonstationary_signal_beta)"
   ]
  },
  {
   "cell_type": "markdown",
   "metadata": {},
   "source": [
    "Look at the results:"
   ]
  },
  {
   "cell_type": "code",
   "execution_count": null,
   "metadata": {},
   "outputs": [],
   "source": [
    "t_indx = np.logical_and(t >= 0, t < 10)\n",
    "plt.figure(figsize=(15, 5))\n",
    "plt.plot(t[t_indx], gausian_signal[t_indx], label='Gaussian')\n",
    "plt.plot(\n",
    "    t[t_indx],\n",
    "    10+nongausian_nonstationary_signal_beta[t_indx],\n",
    "    label='non-Gaussian non-stationary (beta) + 10'\n",
    ")\n",
    "plt.legend();"
   ]
  },
  {
   "cell_type": "markdown",
   "metadata": {},
   "source": [
    "Check the Power spectral density:"
   ]
  },
  {
   "cell_type": "code",
   "execution_count": null,
   "metadata": {},
   "outputs": [],
   "source": [
    "plt.psd(gausian_signal, Fs=fs, label='Gaussian')\n",
    "plt.psd(nongausian_nonstationary_signal_beta, Fs=fs, label='non-Gaussian non-stationary (beta)')\n",
    "plt.legend();"
   ]
  },
  {
   "cell_type": "markdown",
   "metadata": {},
   "source": [
    "### [FLife](https://github.com/ladisk/FLife)"
   ]
  },
  {
   "cell_type": "markdown",
   "metadata": {},
   "source": [
    "Create random data as example of the response fatigue load:"
   ]
  },
  {
   "cell_type": "code",
   "execution_count": null,
   "metadata": {},
   "outputs": [],
   "source": [
    "dt = 1e-4\n",
    "x = np.random.normal(scale=100, size=10000)"
   ]
  },
  {
   "cell_type": "markdown",
   "metadata": {},
   "source": [
    "Prepare spectral data which will later be used by different fatigue damage estimation methods  in the frequency-domain:"
   ]
  },
  {
   "cell_type": "code",
   "execution_count": null,
   "metadata": {},
   "outputs": [],
   "source": [
    "sd = FLife.SpectralData(input=x, dt=dt)"
   ]
  },
  {
   "cell_type": "markdown",
   "metadata": {},
   "source": [
    "Rainflow fatigue-damage estimator object (`sd` is an object with the time-domain data required for the Rainflow method):"
   ]
  },
  {
   "cell_type": "code",
   "execution_count": null,
   "metadata": {},
   "outputs": [],
   "source": [
    "rf = FLife.Rainflow(sd)"
   ]
  },
  {
   "cell_type": "markdown",
   "metadata": {},
   "source": [
    "We need to define fatigue parameters and can estimate the fatigue life:"
   ]
  },
  {
   "cell_type": "code",
   "execution_count": null,
   "metadata": {},
   "outputs": [],
   "source": [
    "C = 1.8e+22\n",
    "k = 7.3\n",
    "rf.get_life(C = C, k=k)"
   ]
  },
  {
   "cell_type": "markdown",
   "metadata": {},
   "source": [
    "Frequency-domain methods are as easy as the time-domain:"
   ]
  },
  {
   "cell_type": "code",
   "execution_count": null,
   "metadata": {},
   "outputs": [],
   "source": [
    "dirlik = FLife.Dirlik(sd)\n",
    "dirlik.get_life(C = C, k=k)"
   ]
  },
  {
   "cell_type": "code",
   "execution_count": null,
   "metadata": {},
   "outputs": [],
   "source": [
    "tb = FLife.TovoBenasciutti(sd)\n",
    "tb.get_life(C = C, k=k, method=\"method 2\")"
   ]
  },
  {
   "cell_type": "markdown",
   "metadata": {},
   "source": [
    "Supported frequency-domain methods are:\n",
    "* Dirlik,\n",
    "* Tovo Benasciutti,\n",
    "* Zhao Baker,\n",
    "* Narrowband,\n",
    "* Alpha 0.75,\n",
    "* Wirsching Light,\n",
    "* Rice,\n",
    "* Gao Moan,\n",
    "* Petrucci Zuccarello."
   ]
  },
  {
   "cell_type": "markdown",
   "metadata": {},
   "source": [
    "---"
   ]
  },
  {
   "cell_type": "markdown",
   "metadata": {},
   "source": [
    "### Frequency Based Substructuring - [pyFBS](https://pyfbs.readthedocs.io)"
   ]
  },
  {
   "cell_type": "markdown",
   "metadata": {},
   "source": [
    "<img src=\"https://gitlab.com/pyFBS/pyFBS/-/raw/master/docs/logo/logo-big.png\">\n",
    "\n",
    "`pyFBS` is a Python package for **Frequency Based Substructuring** and **Transfer Path Analysis**. \n",
    "\n",
    "It enables the user to use state-of-the-art dynamic substructuring methodologies in an intuitive manner."
   ]
  },
  {
   "cell_type": "markdown",
   "metadata": {},
   "source": [
    "**Features**\n",
    "\n",
    "* 3D display\n",
    "* FRF synthetization\n",
    "* Virtual Point Transformation\n",
    "* System Equivalent Model Mixing\n",
    "*  Singular Vector Transformation\n",
    "\n",
    "For more information on features, basic and application examples check out [pyFBS documentation](https://pyfbs.readthedocs.io)."
   ]
  },
  {
   "cell_type": "code",
   "execution_count": null,
   "metadata": {},
   "outputs": [],
   "source": []
  },
  {
   "cell_type": "markdown",
   "metadata": {},
   "source": [
    "---"
   ]
  },
  {
   "cell_type": "markdown",
   "metadata": {
    "slideshow": {
     "slide_type": "subslide"
    }
   },
   "source": [
    "### Image-based displacement identification  - [PyIDI](https://github.com/ladisk/pyidi)\n",
    "\n",
    "An Open-source package for Image-based Displacement Identification (IDI) implementation in Python.\n",
    "\n",
    "Currently implements a Lucas-Kanade based DIC algorithm, and the [Simplified Optical Flow](http://lab.fs.uni-lj.si/ladisk/?what=abstract&ID=179) algorithm for image-based displacement identification.\n",
    "\n",
    "Works with Photron MRAW high-speed imaging file format, but can easily be extended to different data structures."
   ]
  },
  {
   "cell_type": "markdown",
   "metadata": {
    "slideshow": {
     "slide_type": "subslide"
    }
   },
   "source": [
    "Point to the location of image data:"
   ]
  },
  {
   "cell_type": "code",
   "execution_count": null,
   "metadata": {},
   "outputs": [],
   "source": [
    "cam_fname = 'data/camera.cih'"
   ]
  },
  {
   "cell_type": "markdown",
   "metadata": {
    "slideshow": {
     "slide_type": "subslide"
    }
   },
   "source": [
    "Create a `video` object:"
   ]
  },
  {
   "cell_type": "code",
   "execution_count": null,
   "metadata": {},
   "outputs": [],
   "source": [
    "video = pyidi.pyIDI(cam_fname)"
   ]
  },
  {
   "cell_type": "markdown",
   "metadata": {
    "slideshow": {
     "slide_type": "subslide"
    }
   },
   "source": [
    "The first frame of the video:"
   ]
  },
  {
   "cell_type": "code",
   "execution_count": null,
   "metadata": {},
   "outputs": [],
   "source": [
    "plt.imshow(video.mraw[100], 'gray')\n",
    "plt.grid(False)"
   ]
  },
  {
   "cell_type": "markdown",
   "metadata": {
    "slideshow": {
     "slide_type": "subslide"
    }
   },
   "source": [
    "Define the point on the frame where the displacements will be identified:"
   ]
  },
  {
   "cell_type": "code",
   "execution_count": null,
   "metadata": {},
   "outputs": [],
   "source": [
    "points = [[25, 100], [25, 200]]"
   ]
  },
  {
   "cell_type": "code",
   "execution_count": null,
   "metadata": {},
   "outputs": [],
   "source": [
    "video.set_points(points)"
   ]
  },
  {
   "cell_type": "markdown",
   "metadata": {
    "slideshow": {
     "slide_type": "subslide"
    }
   },
   "source": [
    "Set the method of displacement identification:"
   ]
  },
  {
   "cell_type": "code",
   "execution_count": null,
   "metadata": {},
   "outputs": [],
   "source": [
    "video.set_method('sof')"
   ]
  },
  {
   "cell_type": "markdown",
   "metadata": {},
   "source": [
    "Compute the displacements:"
   ]
  },
  {
   "cell_type": "code",
   "execution_count": null,
   "metadata": {},
   "outputs": [],
   "source": [
    "disp = video.get_displacements()"
   ]
  },
  {
   "cell_type": "markdown",
   "metadata": {},
   "source": [
    "Displacements have a shape: (`n_locations`, `n_frames`, `2`):"
   ]
  },
  {
   "cell_type": "code",
   "execution_count": null,
   "metadata": {},
   "outputs": [],
   "source": [
    "disp.shape"
   ]
  },
  {
   "cell_type": "code",
   "execution_count": null,
   "metadata": {},
   "outputs": [],
   "source": [
    "plt.plot(disp[1, :, 0])"
   ]
  },
  {
   "cell_type": "markdown",
   "metadata": {},
   "source": [
    "---"
   ]
  },
  {
   "cell_type": "markdown",
   "metadata": {
    "slideshow": {
     "slide_type": "slide"
    }
   },
   "source": [
    "## Image-based experimental modal analysis in Python"
   ]
  },
  {
   "cell_type": "markdown",
   "metadata": {
    "slideshow": {
     "slide_type": "subslide"
    }
   },
   "source": [
    "**Excitation with modal hammer**"
   ]
  },
  {
   "cell_type": "markdown",
   "metadata": {
    "slideshow": {
     "slide_type": "subslide"
    }
   },
   "source": [
    "<video controls loop src=\"figures/experiment.mp4\" width=\"100%\" rotate=\"270deg\"/>"
   ]
  },
  {
   "cell_type": "markdown",
   "metadata": {
    "slideshow": {
     "slide_type": "subslide"
    }
   },
   "source": [
    "Location of the selected files:"
   ]
  },
  {
   "cell_type": "code",
   "execution_count": null,
   "metadata": {},
   "outputs": [],
   "source": [
    "cam_fname = 'data/camera.cih'\n",
    "lvm_fname = 'data/acceleration.lvm'"
   ]
  },
  {
   "cell_type": "markdown",
   "metadata": {
    "slideshow": {
     "slide_type": "subslide"
    }
   },
   "source": [
    "Load the video using [pyidi][1] package.\n",
    "\n",
    "[1]: https://github.com/ladisk/pyidi"
   ]
  },
  {
   "cell_type": "code",
   "execution_count": null,
   "metadata": {},
   "outputs": [],
   "source": [
    "video = pyidi.pyIDI(cam_fname)"
   ]
  },
  {
   "cell_type": "markdown",
   "metadata": {
    "slideshow": {
     "slide_type": "subslide"
    }
   },
   "source": [
    "Images are stored in the ``mraw`` attribute."
   ]
  },
  {
   "cell_type": "code",
   "execution_count": null,
   "metadata": {},
   "outputs": [],
   "source": [
    "sequential_image_nr = 175\n",
    "plt.imshow(video.mraw[sequential_image_nr], cmap='gray')\n",
    "plt.grid(False)"
   ]
  },
  {
   "cell_type": "markdown",
   "metadata": {
    "slideshow": {
     "slide_type": "subslide"
    }
   },
   "source": [
    "*This example footage is for presentation purposes only and was made to be suitable for online sharing.*\n",
    "\n",
    "*Normaly image acquisation parameters such as frame rate and image resolution would be chosen as high as possible to obtain more precise results.*"
   ]
  },
  {
   "cell_type": "markdown",
   "metadata": {},
   "source": [
    "<video controls loop src=\"figures/video.MOV\" width=\"950\" rotate=\"270deg\"/>"
   ]
  },
  {
   "cell_type": "markdown",
   "metadata": {
    "slideshow": {
     "slide_type": "subslide"
    }
   },
   "source": [
    "### Acquisition parameters"
   ]
  },
  {
   "cell_type": "markdown",
   "metadata": {},
   "source": [
    "The parameters that were used when recording can be found in the ``info`` attribute:"
   ]
  },
  {
   "cell_type": "code",
   "execution_count": null,
   "metadata": {},
   "outputs": [],
   "source": [
    "video.info['Record Rate(fps)']"
   ]
  },
  {
   "cell_type": "code",
   "execution_count": null,
   "metadata": {},
   "outputs": [],
   "source": [
    "video.info['Shutter Speed(s)']"
   ]
  },
  {
   "cell_type": "code",
   "execution_count": null,
   "metadata": {
    "slideshow": {
     "slide_type": "subslide"
    }
   },
   "outputs": [],
   "source": [
    "video.info['Image Width']"
   ]
  },
  {
   "cell_type": "code",
   "execution_count": null,
   "metadata": {},
   "outputs": [],
   "source": [
    "video.info['Image Height']"
   ]
  },
  {
   "cell_type": "markdown",
   "metadata": {
    "slideshow": {
     "slide_type": "subslide"
    }
   },
   "source": [
    "### Lighting\n",
    "Lighting conditions are very important when using a high-speed camera. To obtain optimal lighting conditions, a histogram of pixel intensity is viewed. An example of a well balanced historgram is shown."
   ]
  },
  {
   "cell_type": "code",
   "execution_count": null,
   "metadata": {
    "slideshow": {
     "slide_type": "subslide"
    }
   },
   "outputs": [],
   "source": [
    "selected_frame = 0\n",
    "x0 = 300 # position of observed rectangle\n",
    "y0, d = 9, 25\n",
    "roi = video.mraw[selected_frame, y0:y0+d, x0:x0+d]\n",
    "\n",
    "fig, ax = plt.subplots(2)\n",
    "ax[0].imshow(video.mraw[selected_frame], cmap='gray')\n",
    "ax[1].hist(roi.flatten(), bins=50);\n",
    "# Formating\n",
    "ax[0].add_patch(patches.Rectangle((x0, y0), d, d, fill=False, color='r', linewidth=2))\n",
    "ax[0].grid(False)\n",
    "ax[1].set_xlabel('Grayscale value [/]')\n",
    "ax[1].set_ylabel('n pixels [/]')\n",
    "plt.tight_layout()"
   ]
  },
  {
   "cell_type": "markdown",
   "metadata": {
    "slideshow": {
     "slide_type": "subslide"
    }
   },
   "source": [
    "### Surface preperation\n",
    "In order for gradient-based methods to work, sufficient gradient must be present on the images. Surface preperations is therefor necessary.\n",
    "\n",
    "Stripe pattern and random speckle pattern generation is implemented in the [speckle-pattern][1] python module. In this case, horizontal stripes were used.\n",
    "\n",
    "[1]: https://github.com/ladisk/speckle_pattern"
   ]
  },
  {
   "cell_type": "code",
   "execution_count": null,
   "metadata": {
    "slideshow": {
     "slide_type": "-"
    }
   },
   "outputs": [],
   "source": [
    "grad0, grad1 = np.gradient(video.mraw[0].astype(float)) # gradient computation using Numpy"
   ]
  },
  {
   "cell_type": "code",
   "execution_count": null,
   "metadata": {
    "slideshow": {
     "slide_type": "subslide"
    }
   },
   "outputs": [],
   "source": [
    "x0 = 200 # position of cross section\n",
    "\n",
    "fig, ax = plt.subplots(2)\n",
    "ax[0].imshow(video.mraw[selected_frame], cmap='gray')\n",
    "ax[1].plot(video.mraw[selected_frame, :, x0], label='Grayscale value')\n",
    "ax[1].plot(grad0[:, x0], label='Gradient')\n",
    "# Formating\n",
    "ax[0].vlines(x0, 0, 40, colors='r', linewidth=3)\n",
    "ax[0].text(x0+10, -5, 'Cross section')\n",
    "ax[0].arrow(x0+50, 5, -35, 20, color='r', width=3)\n",
    "ax[0].grid(False)\n",
    "ax[1].set_xlabel('Image height [px]')\n",
    "ax[1].set_ylabel('Grayscale/gradient value [/]')\n",
    "plt.legend()\n",
    "plt.tight_layout()"
   ]
  },
  {
   "cell_type": "markdown",
   "metadata": {
    "slideshow": {
     "slide_type": "subslide"
    }
   },
   "source": [
    "### Possible errors\n",
    "\n",
    "#### Out of focus image\n",
    "The right side of the beam is in focus, while the left side is not."
   ]
  },
  {
   "cell_type": "code",
   "execution_count": null,
   "metadata": {},
   "outputs": [],
   "source": [
    "layout_fname = r'data/focus.cih'\n",
    "video_layout = pyidi.pyIDI(layout_fname)"
   ]
  },
  {
   "cell_type": "code",
   "execution_count": null,
   "metadata": {
    "slideshow": {
     "slide_type": "subslide"
    }
   },
   "outputs": [],
   "source": [
    "fig, ax = plt.subplots()\n",
    "ax.imshow(video_layout.mraw[0], 'gray')\n",
    "\n",
    "# Formating\n",
    "ax.grid(False)\n",
    "plt.tight_layout()"
   ]
  },
  {
   "cell_type": "markdown",
   "metadata": {
    "slideshow": {
     "slide_type": "subslide"
    }
   },
   "source": [
    "#### Improper lighting"
   ]
  },
  {
   "cell_type": "code",
   "execution_count": null,
   "metadata": {
    "slideshow": {
     "slide_type": "-"
    }
   },
   "outputs": [],
   "source": [
    "light_fname = r'data/illumination.cih'\n",
    "video_light = pyidi.pyIDI(light_fname)"
   ]
  },
  {
   "cell_type": "code",
   "execution_count": null,
   "metadata": {
    "slideshow": {
     "slide_type": "subslide"
    }
   },
   "outputs": [],
   "source": [
    "interact(show_lighting, x0=(75, 550, 50), video_light=fixed(video_light));"
   ]
  },
  {
   "cell_type": "markdown",
   "metadata": {},
   "source": [
    "---"
   ]
  },
  {
   "cell_type": "markdown",
   "metadata": {
    "slideshow": {
     "slide_type": "slide"
    }
   },
   "source": [
    "## Real-life example of image-based vibration measurement"
   ]
  },
  {
   "cell_type": "markdown",
   "metadata": {},
   "source": [
    "### Image-based displacement computation"
   ]
  },
  {
   "cell_type": "markdown",
   "metadata": {
    "slideshow": {
     "slide_type": "subslide"
    }
   },
   "source": [
    "We are using the high-speed video file, loaded above:"
   ]
  },
  {
   "cell_type": "code",
   "execution_count": null,
   "metadata": {},
   "outputs": [],
   "source": [
    "video.info"
   ]
  },
  {
   "cell_type": "markdown",
   "metadata": {
    "slideshow": {
     "slide_type": "subslide"
    }
   },
   "source": [
    "Select the points to be analyzed:"
   ]
  },
  {
   "cell_type": "code",
   "execution_count": null,
   "metadata": {},
   "outputs": [],
   "source": [
    "video.info['Image Width']"
   ]
  },
  {
   "cell_type": "code",
   "execution_count": null,
   "metadata": {
    "slideshow": {
     "slide_type": "-"
    }
   },
   "outputs": [],
   "source": [
    "points_y = np.ones(10)*video.info['Image Height']//2\n",
    "points_x = np.arange(30, video.info['Image Width'], (video.info['Image Width']-60)//9)\n",
    "points = np.column_stack([points_y, points_x])\n",
    "points"
   ]
  },
  {
   "cell_type": "markdown",
   "metadata": {
    "slideshow": {
     "slide_type": "subslide"
    }
   },
   "source": [
    "Configure the analysis:"
   ]
  },
  {
   "cell_type": "code",
   "execution_count": null,
   "metadata": {},
   "outputs": [],
   "source": [
    "video.set_points(points)\n",
    "video.set_method('lk', roi_size=(21, 23), max_nfev=10, int_order=3)"
   ]
  },
  {
   "cell_type": "code",
   "execution_count": null,
   "metadata": {
    "slideshow": {
     "slide_type": "subslide"
    }
   },
   "outputs": [],
   "source": [
    "video.show_points()"
   ]
  },
  {
   "cell_type": "markdown",
   "metadata": {
    "slideshow": {
     "slide_type": "subslide"
    }
   },
   "source": [
    "Compute the displacements:"
   ]
  },
  {
   "cell_type": "code",
   "execution_count": null,
   "metadata": {},
   "outputs": [],
   "source": [
    "displacements = np.load('data/displacements_lk.npy', allow_pickle=True)"
   ]
  },
  {
   "cell_type": "code",
   "execution_count": null,
   "metadata": {},
   "outputs": [],
   "source": [
    "# idisplacements = video.get_displaciments(processes=4) * 8e-5 # this might take a minute"
   ]
  },
  {
   "cell_type": "code",
   "execution_count": null,
   "metadata": {
    "slideshow": {
     "slide_type": "subslide"
    }
   },
   "outputs": [],
   "source": [
    "location = 0"
   ]
  },
  {
   "cell_type": "code",
   "execution_count": null,
   "metadata": {},
   "outputs": [],
   "source": [
    "fig, ax = plt.subplots()\n",
    "ax.plot(displacements[location, :, 0], label='Direction 0 (y)')\n",
    "ax.set_xlabel('Image [/]]')\n",
    "ax.set_ylabel('Displacement [m]')\n",
    "plt.legend()"
   ]
  },
  {
   "cell_type": "markdown",
   "metadata": {
    "slideshow": {
     "slide_type": "subslide"
    }
   },
   "source": [
    "Compute the FRF using image-based displacement data"
   ]
  },
  {
   "cell_type": "code",
   "execution_count": null,
   "metadata": {},
   "outputs": [],
   "source": [
    "N = int(video.info['Total Frame'])\n",
    "dt = 1/int(video.info['Record Rate(fps)'])\n",
    "T = dt*N"
   ]
  },
  {
   "cell_type": "code",
   "execution_count": null,
   "metadata": {},
   "outputs": [],
   "source": [
    "upper_f_limit = 4000 # upper observed frequency"
   ]
  },
  {
   "cell_type": "code",
   "execution_count": null,
   "metadata": {
    "slideshow": {
     "slide_type": "subslide"
    }
   },
   "outputs": [],
   "source": [
    "freq_cam = np.fft.rfftfreq(N, dt)\n",
    "fft_cam = np.fft.rfft(displacements[:, :, 0], N) *2/N "
   ]
  },
  {
   "cell_type": "markdown",
   "metadata": {},
   "source": [
    "Use only data below the selected upper frequency:"
   ]
  },
  {
   "cell_type": "code",
   "execution_count": null,
   "metadata": {},
   "outputs": [],
   "source": [
    "fft_cam = np.copy(fft_cam[:, freq_cam<upper_f_limit])\n",
    "freq_cam = np.copy(freq_cam[freq_cam<upper_f_limit])"
   ]
  },
  {
   "cell_type": "markdown",
   "metadata": {
    "slideshow": {
     "slide_type": "subslide"
    }
   },
   "source": [
    "The FFT of force measurement is (also limited to `upper_f_limit`):"
   ]
  },
  {
   "cell_type": "code",
   "execution_count": null,
   "metadata": {},
   "outputs": [],
   "source": [
    "lvm = lvm_read.read(lvm_fname)\n",
    "force = lvm[0]['data'][:-30, 1] # 30 pre-samples\n",
    "N = len(force)//4 # the video was captured for 1/4 of a second\n",
    "dt = lvm[0]['Delta_X'][1]\n",
    "\n",
    "fft_force = np.fft.rfft(force, N) *2/N\n",
    "freq_force = np.fft.rfftfreq(N, dt)\n",
    "\n",
    "fft_force = np.copy(fft_force[freq_force<upper_f_limit])\n",
    "freq_force = np.copy(freq_force[freq_force<upper_f_limit])"
   ]
  },
  {
   "cell_type": "markdown",
   "metadata": {
    "slideshow": {
     "slide_type": "subslide"
    }
   },
   "source": [
    "Since only one measurement was used, the FRF is determined by:"
   ]
  },
  {
   "cell_type": "code",
   "execution_count": null,
   "metadata": {},
   "outputs": [],
   "source": [
    "frf_cam = fft_cam/fft_force "
   ]
  },
  {
   "cell_type": "code",
   "execution_count": null,
   "metadata": {
    "slideshow": {
     "slide_type": "subslide"
    }
   },
   "outputs": [],
   "source": [
    "plt.semilogy(freq_cam, np.abs(frf_cam[location]));\n",
    "plt.xlabel('Frequency [Hz]')\n",
    "plt.ylabel('Receptance FRF')"
   ]
  },
  {
   "cell_type": "markdown",
   "metadata": {
    "slideshow": {
     "slide_type": "subslide"
    }
   },
   "source": [
    "### Modal Analysis - camera data, only"
   ]
  },
  {
   "cell_type": "markdown",
   "metadata": {},
   "source": [
    "Modal analysis can be made using ``pyEMA`` package, accessible on [PyPI][1].\n",
    "\n",
    "[1]: https://pypi.org/project/pyEMA/"
   ]
  },
  {
   "cell_type": "code",
   "execution_count": null,
   "metadata": {
    "slideshow": {
     "slide_type": "subslide"
    }
   },
   "outputs": [],
   "source": [
    "cam = pyEMA.Model(frf_cam, freq_cam, pol_order_high=100, upper=upper_f_limit)"
   ]
  },
  {
   "cell_type": "markdown",
   "metadata": {},
   "source": [
    "Poles are computed:"
   ]
  },
  {
   "cell_type": "code",
   "execution_count": null,
   "metadata": {},
   "outputs": [],
   "source": [
    "cam.get_poles(show_progress=True)"
   ]
  },
  {
   "cell_type": "markdown",
   "metadata": {
    "slideshow": {
     "slide_type": "subslide"
    }
   },
   "source": [
    "Stable poles can be picked in the stability chart, or preditermind by passing in approximate natural frequencies."
   ]
  },
  {
   "cell_type": "code",
   "execution_count": null,
   "metadata": {},
   "outputs": [],
   "source": [
    "cam.select_poles()"
   ]
  },
  {
   "cell_type": "code",
   "execution_count": null,
   "metadata": {
    "slideshow": {
     "slide_type": "subslide"
    }
   },
   "outputs": [],
   "source": [
    "cam.print_modal_data()"
   ]
  },
  {
   "cell_type": "markdown",
   "metadata": {
    "slideshow": {
     "slide_type": "subslide"
    }
   },
   "source": [
    "After the stable poles are determind, a ``lsfd`` method can be called to reconstruct the FRF:"
   ]
  },
  {
   "cell_type": "code",
   "execution_count": null,
   "metadata": {},
   "outputs": [],
   "source": [
    "frf_rec, shapes_cam = cam.get_constants(FRF_ind='all')"
   ]
  },
  {
   "cell_type": "code",
   "execution_count": null,
   "metadata": {
    "slideshow": {
     "slide_type": "subslide"
    }
   },
   "outputs": [],
   "source": [
    "fig, ax = plt.subplots()\n",
    "ax.semilogy(freq_cam, np.abs(frf_cam[location]), label='Camera FRF', alpha=0.8)\n",
    "ax.semilogy(freq_cam[:-1], np.abs(frf_rec[location]), label='Reconstructed FRF', lw=2)\n",
    "ax.set_xlabel('frequency [Hz]')\n",
    "ax.set_ylabel('Receptance')\n",
    "plt.legend();"
   ]
  },
  {
   "cell_type": "code",
   "execution_count": null,
   "metadata": {
    "slideshow": {
     "slide_type": "subslide"
    }
   },
   "outputs": [],
   "source": [
    "fig, ax = plt.subplots(shapes_cam.shape[1])\n",
    "for i, a in enumerate(ax):\n",
    "    plot_mode_shape(shapes_cam[:, i], axis=a, frequency=cam.nat_freq[i])"
   ]
  },
  {
   "cell_type": "markdown",
   "metadata": {
    "slideshow": {
     "slide_type": "subslide"
    }
   },
   "source": [
    "### Modal Analysis - The Hybrid method"
   ]
  },
  {
   "cell_type": "markdown",
   "metadata": {},
   "source": [
    "The Hybrid method was developed by Javh et al. Further details can be found [here][1] ([pdf][2])\n",
    "\n",
    "First, the acceleration and force data are needed:\n",
    "\n",
    "[1]: https://www.sciencedirect.com/science/article/pii/S0888327017302637\n",
    "[2]: http://lab.fs.uni-lj.si/ladisk/?what=abstract&ID=192"
   ]
  },
  {
   "cell_type": "code",
   "execution_count": null,
   "metadata": {
    "slideshow": {
     "slide_type": "-"
    }
   },
   "outputs": [],
   "source": [
    "hyb_acc = lvm[0]['data'][:-30, 0] * 9.81 # acceleration data (converted to m/s**2)"
   ]
  },
  {
   "cell_type": "markdown",
   "metadata": {
    "slideshow": {
     "slide_type": "subslide"
    }
   },
   "source": [
    "The FRF can be computed using ``pyFRF``:"
   ]
  },
  {
   "cell_type": "code",
   "execution_count": null,
   "metadata": {},
   "outputs": [],
   "source": [
    "frf_ = pyFRF.FRF(\n",
    "    sampling_freq=1/dt,\n",
    "    exc=force,\n",
    "    resp=hyb_acc,\n",
    "    exc_window='None',\n",
    "    resp_type='a',\n",
    "    resp_window='None')"
   ]
  },
  {
   "cell_type": "markdown",
   "metadata": {
    "slideshow": {
     "slide_type": "subslide"
    }
   },
   "source": [
    "Only the frequencies lower than `upper_f_limit` Hz are observed:"
   ]
  },
  {
   "cell_type": "code",
   "execution_count": null,
   "metadata": {},
   "outputs": [],
   "source": [
    "freq_acc = frf_.get_f_axis()\n",
    "frf_acc = frf_.get_FRF(form='receptance')\n",
    "\n",
    "frf_acc = frf_acc[freq_acc<upper_f_limit]\n",
    "freq_acc = freq_acc[freq_acc<upper_f_limit]"
   ]
  },
  {
   "cell_type": "markdown",
   "metadata": {
    "slideshow": {
     "slide_type": "subslide"
    }
   },
   "source": [
    "The location of acceleration measurement is at identified camera point with index 3:"
   ]
  },
  {
   "cell_type": "code",
   "execution_count": null,
   "metadata": {},
   "outputs": [],
   "source": [
    "fig, ax = plt.subplots()\n",
    "ax.semilogy(freq_cam, np.abs(frf_cam[location]), label='Camera FRF')\n",
    "ax.semilogy(freq_acc, np.abs(frf_acc), label='Accelerometer FRF')\n",
    "ax.set_title('Camera-based response at accelerometer location')\n",
    "plt.legend();"
   ]
  },
  {
   "cell_type": "markdown",
   "metadata": {
    "slideshow": {
     "slide_type": "subslide"
    }
   },
   "source": [
    "Next the ``lscf`` object can be created and poles are computed for the hybrid method:"
   ]
  },
  {
   "cell_type": "code",
   "execution_count": null,
   "metadata": {},
   "outputs": [],
   "source": [
    "acc = pyEMA.Model(frf_acc[1:], freq_acc[1:], pol_order_high=50, upper=upper_f_limit)"
   ]
  },
  {
   "cell_type": "code",
   "execution_count": null,
   "metadata": {},
   "outputs": [],
   "source": [
    "acc.get_poles(show_progress=True)"
   ]
  },
  {
   "cell_type": "code",
   "execution_count": null,
   "metadata": {
    "slideshow": {
     "slide_type": "subslide"
    }
   },
   "outputs": [],
   "source": [
    "acc.select_poles()"
   ]
  },
  {
   "cell_type": "code",
   "execution_count": null,
   "metadata": {
    "slideshow": {
     "slide_type": "subslide"
    }
   },
   "outputs": [],
   "source": [
    "acc.print_modal_data()"
   ]
  },
  {
   "cell_type": "markdown",
   "metadata": {
    "slideshow": {
     "slide_type": "subslide"
    }
   },
   "source": [
    "The poles computed based on accleration data are more reliable. These poles can now be used in reconstruction of FRFs from camera. A new ``lscf`` object is made with camera FRF:"
   ]
  },
  {
   "cell_type": "code",
   "execution_count": null,
   "metadata": {},
   "outputs": [],
   "source": [
    "cam_hyb = pyEMA.Model(frf_cam, freq_cam)"
   ]
  },
  {
   "cell_type": "markdown",
   "metadata": {},
   "source": [
    "Next, the reconstruction is done using accleration-determined poles:"
   ]
  },
  {
   "cell_type": "code",
   "execution_count": null,
   "metadata": {},
   "outputs": [],
   "source": [
    "frf_hyb, shapes_hybrid = cam_hyb.get_constants(whose_poles=acc)"
   ]
  },
  {
   "cell_type": "code",
   "execution_count": null,
   "metadata": {
    "slideshow": {
     "slide_type": "subslide"
    }
   },
   "outputs": [],
   "source": [
    "fig, ax = plt.subplots()\n",
    "ax.semilogy(freq_cam, np.abs(frf_cam[location]), label='Camera FRF', alpha=0.8)\n",
    "ax.semilogy(freq_acc, np.abs(frf_acc), label='Accelerometer FRF')\n",
    "ax.semilogy(freq_cam[:-1], np.abs(frf_hyb[location]), label='Reconstructed FRF', lw=3)\n",
    "plt.legend();"
   ]
  },
  {
   "cell_type": "code",
   "execution_count": null,
   "metadata": {
    "slideshow": {
     "slide_type": "subslide"
    }
   },
   "outputs": [],
   "source": [
    "fig, ax = plt.subplots(shapes_cam.shape[-1])\n",
    "for i, a in enumerate(ax):\n",
    "    cam_freq = cam.nat_freq[i]\n",
    "    hybrid_f_index = np.argmin(np.abs(acc.nat_freq - cam_freq))\n",
    "    plot_mode_shape(shapes_hybrid[:, hybrid_f_index], axis=a, \n",
    "                    frequency=acc.nat_freq[hybrid_f_index], lw=2, label='Hybrid')\n",
    "    plot_mode_shape(shapes_cam[:, i], axis=a , alpha=0.3, label='Camera')\n",
    "    a.set_yticks([])\n",
    "ax[0].legend()"
   ]
  },
  {
   "cell_type": "code",
   "execution_count": null,
   "metadata": {
    "slideshow": {
     "slide_type": "subslide"
    }
   },
   "outputs": [],
   "source": [
    "plt.figure(figsize=(fig_size[0], fig_size[1]/3))\n",
    "plot_mode_shape(shapes_hybrid[:, -1], axis=plt.gca(), \n",
    "                frequency=acc.nat_freq[-1], lw=2, label='Hybrid')\n",
    "plt.legend()"
   ]
  }
 ],
 "metadata": {
  "celltoolbar": "Slideshow",
  "hide_input": false,
  "kernelspec": {
   "display_name": "Python 3",
   "language": "python",
   "name": "python3"
  },
  "language_info": {
   "codemirror_mode": {
    "name": "ipython",
    "version": 3
   },
   "file_extension": ".py",
   "mimetype": "text/x-python",
   "name": "python",
   "nbconvert_exporter": "python",
   "pygments_lexer": "ipython3",
   "version": "3.8.8"
  },
  "toc": {
   "base_numbering": 1,
   "nav_menu": {
    "height": "259px",
    "width": "276px"
   },
   "number_sections": true,
   "sideBar": true,
   "skip_h1_title": true,
   "title_cell": "Table of Contents",
   "title_sidebar": "Contents",
   "toc_cell": true,
   "toc_position": {
    "height": "calc(100% - 180px)",
    "left": "10px",
    "top": "150px",
    "width": "165px"
   },
   "toc_section_display": true,
   "toc_window_display": false
  },
  "varInspector": {
   "cols": {
    "lenName": 16,
    "lenType": 16,
    "lenVar": 40
   },
   "kernels_config": {
    "python": {
     "delete_cmd_postfix": "",
     "delete_cmd_prefix": "del ",
     "library": "var_list.py",
     "varRefreshCmd": "print(var_dic_list())"
    },
    "r": {
     "delete_cmd_postfix": ") ",
     "delete_cmd_prefix": "rm(",
     "library": "var_list.r",
     "varRefreshCmd": "cat(var_dic_list()) "
    }
   },
   "types_to_exclude": [
    "module",
    "function",
    "builtin_function_or_method",
    "instance",
    "_Feature"
   ],
   "window_display": false
  }
 },
 "nbformat": 4,
 "nbformat_minor": 4
}
